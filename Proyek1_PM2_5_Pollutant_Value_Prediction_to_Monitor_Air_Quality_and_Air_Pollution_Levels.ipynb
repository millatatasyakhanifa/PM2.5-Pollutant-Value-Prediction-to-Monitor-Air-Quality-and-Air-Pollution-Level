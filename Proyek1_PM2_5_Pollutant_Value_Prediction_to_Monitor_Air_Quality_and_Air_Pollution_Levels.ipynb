{
  "nbformat": 4,
  "nbformat_minor": 0,
  "metadata": {
    "colab": {
      "name": "Proyek1_PM2.5 Pollutant Value Prediction to Monitor Air Quality and Air Pollution Levels.ipynb",
      "provenance": [],
      "collapsed_sections": []
    },
    "kernelspec": {
      "name": "python3",
      "display_name": "Python 3"
    },
    "language_info": {
      "name": "python"
    }
  },
  "cells": [
    {
      "cell_type": "markdown",
      "metadata": {
        "id": "YTo2vT4P8gvM"
      },
      "source": [
        "# Predictive Analytics: PM2.5 Pollutant Value Prediction to Monitor Air Quality and Air Pollution Levels. \n",
        "*   Author: Millata Tasyakhanifa\n",
        "*   Username: millatasyaa\n",
        "*   Email: millatatasyakhanifa@gmail.com\n"
      ]
    },
    {
      "cell_type": "markdown",
      "metadata": {
        "id": "CgYYcTBzkL5x"
      },
      "source": [
        "#Pendahuluan\n",
        "##### Proyek yang saya kerjakan berkaitan dengan isu kesehatan dan lingkungan yaitu memprediksi nilai PM2.5 pada 30 jam ke depan. PM2.5 merupakan salah satu polutan berbahaya yang dapat mencemari udara. Proyek ini dibuat untuk memenuhi Submission 1 pada course Machine Learning Terapan Dicoding."
      ]
    },
    {
      "cell_type": "markdown",
      "metadata": {
        "id": "HbP3EDew8LSv"
      },
      "source": [
        "#1. Import Library"
      ]
    },
    {
      "cell_type": "code",
      "metadata": {
        "id": "81-Xjwefk0CL"
      },
      "source": [
        "# Library untuk mengolah data\n",
        "import pandas as pd\n",
        "import numpy as np\n",
        "import os\n",
        "\n",
        "# Library untuk data visualization\n",
        "import matplotlib.pyplot as plt\n",
        "import seaborn as sns\n",
        "\n",
        "# Library untuk data preprocessing\n",
        "from sklearn.model_selection import train_test_split\n",
        "from sklearn.preprocessing import MinMaxScaler\n",
        "from keras.preprocessing.sequence import TimeseriesGenerator\n",
        "\n",
        "# Library untuk membuat model\n",
        "import tensorflow as tf\n",
        "from keras.layers import Dense, LSTM"
      ],
      "execution_count": null,
      "outputs": []
    },
    {
      "cell_type": "markdown",
      "metadata": {
        "id": "RslVbYcxdH_2"
      },
      "source": [
        "#2. Prepare Dataset"
      ]
    },
    {
      "cell_type": "code",
      "metadata": {
        "id": "vI4LPw4IvNeU"
      },
      "source": [
        "# Membuat folder .kaggle pada folder root\n",
        "!rm -rf ~/.kaggle && mkdir ~/.kaggle/\n",
        "\n",
        "# Menyalin file kaggle.json ke dalam folder .kaggle\n",
        "!mv kaggle.json ~/.kaggle/kaggle.json\n",
        "!chmod 600 ~/.kaggle/kaggle.json"
      ],
      "execution_count": null,
      "outputs": []
    },
    {
      "cell_type": "code",
      "metadata": {
        "id": "M_Pu3GJHvCQJ",
        "colab": {
          "base_uri": "https://localhost:8080/"
        },
        "outputId": "b1fd92ae-3ebd-439b-80e5-588e85aa840e"
      },
      "source": [
        "# Download dataset menggunakan Kaggle CLI\n",
        "!kaggle datasets download bappekim/air-pollution-in-seoul"
      ],
      "execution_count": null,
      "outputs": [
        {
          "output_type": "stream",
          "name": "stdout",
          "text": [
            "Downloading air-pollution-in-seoul.zip to /content\n",
            " 41% 8.00M/19.7M [00:00<00:00, 82.2MB/s]\n",
            "100% 19.7M/19.7M [00:00<00:00, 96.8MB/s]\n"
          ]
        }
      ]
    },
    {
      "cell_type": "code",
      "metadata": {
        "colab": {
          "base_uri": "https://localhost:8080/"
        },
        "id": "Q-AXLxXBvvf5",
        "outputId": "6d09dca8-65c5-469b-9b5b-737a20d3e69a"
      },
      "source": [
        "# Mengekstrak berkas air-pollution-in-seoul.zip\n",
        "!unzip /content/air-pollution-in-seoul.zip"
      ],
      "execution_count": null,
      "outputs": [
        {
          "output_type": "stream",
          "name": "stdout",
          "text": [
            "Archive:  /content/air-pollution-in-seoul.zip\n",
            "  inflating: AirPollutionSeoul/Measurement_summary.csv  \n",
            "  inflating: AirPollutionSeoul/Original Data/Measurement_info.csv  \n",
            "  inflating: AirPollutionSeoul/Original Data/Measurement_item_info.csv  \n",
            "  inflating: AirPollutionSeoul/Original Data/Measurement_station_info.csv  \n"
          ]
        }
      ]
    },
    {
      "cell_type": "markdown",
      "metadata": {
        "id": "rgvCDyd5jRE5"
      },
      "source": [
        "#3. Data Understanding"
      ]
    },
    {
      "cell_type": "markdown",
      "metadata": {
        "id": "MhdGKkyajbBp"
      },
      "source": [
        "3.1 Membaca Dataset dan Menampilkan 5 Data Pertama"
      ]
    },
    {
      "cell_type": "code",
      "metadata": {
        "id": "GSdjBfOhOvSu",
        "colab": {
          "base_uri": "https://localhost:8080/",
          "height": 395
        },
        "outputId": "f0729a71-6420-4aeb-bbdf-379b1f6cb4e6"
      },
      "source": [
        "df = pd.read_csv('/content/AirPollutionSeoul/Measurement_summary.csv')\n",
        "df.head()"
      ],
      "execution_count": null,
      "outputs": [
        {
          "output_type": "execute_result",
          "data": {
            "text/html": [
              "<div>\n",
              "<style scoped>\n",
              "    .dataframe tbody tr th:only-of-type {\n",
              "        vertical-align: middle;\n",
              "    }\n",
              "\n",
              "    .dataframe tbody tr th {\n",
              "        vertical-align: top;\n",
              "    }\n",
              "\n",
              "    .dataframe thead th {\n",
              "        text-align: right;\n",
              "    }\n",
              "</style>\n",
              "<table border=\"1\" class=\"dataframe\">\n",
              "  <thead>\n",
              "    <tr style=\"text-align: right;\">\n",
              "      <th></th>\n",
              "      <th>Measurement date</th>\n",
              "      <th>Station code</th>\n",
              "      <th>Address</th>\n",
              "      <th>Latitude</th>\n",
              "      <th>Longitude</th>\n",
              "      <th>SO2</th>\n",
              "      <th>NO2</th>\n",
              "      <th>O3</th>\n",
              "      <th>CO</th>\n",
              "      <th>PM10</th>\n",
              "      <th>PM2.5</th>\n",
              "    </tr>\n",
              "  </thead>\n",
              "  <tbody>\n",
              "    <tr>\n",
              "      <th>0</th>\n",
              "      <td>2017-01-01 00:00</td>\n",
              "      <td>101</td>\n",
              "      <td>19, Jong-ro 35ga-gil, Jongno-gu, Seoul, Republ...</td>\n",
              "      <td>37.572016</td>\n",
              "      <td>127.005007</td>\n",
              "      <td>0.004</td>\n",
              "      <td>0.059</td>\n",
              "      <td>0.002</td>\n",
              "      <td>1.2</td>\n",
              "      <td>73.0</td>\n",
              "      <td>57.0</td>\n",
              "    </tr>\n",
              "    <tr>\n",
              "      <th>1</th>\n",
              "      <td>2017-01-01 01:00</td>\n",
              "      <td>101</td>\n",
              "      <td>19, Jong-ro 35ga-gil, Jongno-gu, Seoul, Republ...</td>\n",
              "      <td>37.572016</td>\n",
              "      <td>127.005007</td>\n",
              "      <td>0.004</td>\n",
              "      <td>0.058</td>\n",
              "      <td>0.002</td>\n",
              "      <td>1.2</td>\n",
              "      <td>71.0</td>\n",
              "      <td>59.0</td>\n",
              "    </tr>\n",
              "    <tr>\n",
              "      <th>2</th>\n",
              "      <td>2017-01-01 02:00</td>\n",
              "      <td>101</td>\n",
              "      <td>19, Jong-ro 35ga-gil, Jongno-gu, Seoul, Republ...</td>\n",
              "      <td>37.572016</td>\n",
              "      <td>127.005007</td>\n",
              "      <td>0.004</td>\n",
              "      <td>0.056</td>\n",
              "      <td>0.002</td>\n",
              "      <td>1.2</td>\n",
              "      <td>70.0</td>\n",
              "      <td>59.0</td>\n",
              "    </tr>\n",
              "    <tr>\n",
              "      <th>3</th>\n",
              "      <td>2017-01-01 03:00</td>\n",
              "      <td>101</td>\n",
              "      <td>19, Jong-ro 35ga-gil, Jongno-gu, Seoul, Republ...</td>\n",
              "      <td>37.572016</td>\n",
              "      <td>127.005007</td>\n",
              "      <td>0.004</td>\n",
              "      <td>0.056</td>\n",
              "      <td>0.002</td>\n",
              "      <td>1.2</td>\n",
              "      <td>70.0</td>\n",
              "      <td>58.0</td>\n",
              "    </tr>\n",
              "    <tr>\n",
              "      <th>4</th>\n",
              "      <td>2017-01-01 04:00</td>\n",
              "      <td>101</td>\n",
              "      <td>19, Jong-ro 35ga-gil, Jongno-gu, Seoul, Republ...</td>\n",
              "      <td>37.572016</td>\n",
              "      <td>127.005007</td>\n",
              "      <td>0.003</td>\n",
              "      <td>0.051</td>\n",
              "      <td>0.002</td>\n",
              "      <td>1.2</td>\n",
              "      <td>69.0</td>\n",
              "      <td>61.0</td>\n",
              "    </tr>\n",
              "  </tbody>\n",
              "</table>\n",
              "</div>"
            ],
            "text/plain": [
              "   Measurement date  Station code  ...  PM10  PM2.5\n",
              "0  2017-01-01 00:00           101  ...  73.0   57.0\n",
              "1  2017-01-01 01:00           101  ...  71.0   59.0\n",
              "2  2017-01-01 02:00           101  ...  70.0   59.0\n",
              "3  2017-01-01 03:00           101  ...  70.0   58.0\n",
              "4  2017-01-01 04:00           101  ...  69.0   61.0\n",
              "\n",
              "[5 rows x 11 columns]"
            ]
          },
          "metadata": {},
          "execution_count": 5
        }
      ]
    },
    {
      "cell_type": "markdown",
      "metadata": {
        "id": "ww3W_iQSkH98"
      },
      "source": [
        "3.2 Menampilkan Keterangan Kolom Dataset"
      ]
    },
    {
      "cell_type": "code",
      "metadata": {
        "id": "Uexasy5VlAHA",
        "colab": {
          "base_uri": "https://localhost:8080/"
        },
        "outputId": "50cfa324-4519-46c8-bfa4-5c9e27201270"
      },
      "source": [
        "# Menampilkan ringkasan singkat dari dataframe\n",
        "df.info()"
      ],
      "execution_count": null,
      "outputs": [
        {
          "output_type": "stream",
          "name": "stdout",
          "text": [
            "<class 'pandas.core.frame.DataFrame'>\n",
            "RangeIndex: 647511 entries, 0 to 647510\n",
            "Data columns (total 11 columns):\n",
            " #   Column            Non-Null Count   Dtype  \n",
            "---  ------            --------------   -----  \n",
            " 0   Measurement date  647511 non-null  object \n",
            " 1   Station code      647511 non-null  int64  \n",
            " 2   Address           647511 non-null  object \n",
            " 3   Latitude          647511 non-null  float64\n",
            " 4   Longitude         647511 non-null  float64\n",
            " 5   SO2               647511 non-null  float64\n",
            " 6   NO2               647511 non-null  float64\n",
            " 7   O3                647511 non-null  float64\n",
            " 8   CO                647511 non-null  float64\n",
            " 9   PM10              647511 non-null  float64\n",
            " 10  PM2.5             647511 non-null  float64\n",
            "dtypes: float64(8), int64(1), object(2)\n",
            "memory usage: 54.3+ MB\n"
          ]
        }
      ]
    },
    {
      "cell_type": "code",
      "metadata": {
        "id": "XsdvHJQOLYI_",
        "colab": {
          "base_uri": "https://localhost:8080/"
        },
        "outputId": "b5d36472-9115-4b48-e1a5-84648e822c73"
      },
      "source": [
        "# Menampilkan shape data\n",
        "df.shape"
      ],
      "execution_count": null,
      "outputs": [
        {
          "output_type": "execute_result",
          "data": {
            "text/plain": [
              "(647511, 11)"
            ]
          },
          "metadata": {},
          "execution_count": 7
        }
      ]
    },
    {
      "cell_type": "code",
      "metadata": {
        "id": "hNLQmm98LfLj",
        "colab": {
          "base_uri": "https://localhost:8080/"
        },
        "outputId": "7a54d58d-8bd2-4cff-e7b2-55a0c3b2f194"
      },
      "source": [
        "# Menampilkan jumlah rows dan columns\n",
        "rows = df.shape[0]\n",
        "columns = df.shape[1]\n",
        "\n",
        "print(\"Number of rows: \" + str(rows))\n",
        "print(\"Number of columns: \" + str(columns))"
      ],
      "execution_count": null,
      "outputs": [
        {
          "output_type": "stream",
          "name": "stdout",
          "text": [
            "Number of rows: 647511\n",
            "Number of columns: 11\n"
          ]
        }
      ]
    },
    {
      "cell_type": "code",
      "metadata": {
        "id": "HXy6pC2IMhhe",
        "colab": {
          "base_uri": "https://localhost:8080/"
        },
        "outputId": "45d333a0-71c9-4a3c-a6c0-93834f370b60"
      },
      "source": [
        "# Menampilkan kolom\n",
        "df.columns"
      ],
      "execution_count": null,
      "outputs": [
        {
          "output_type": "execute_result",
          "data": {
            "text/plain": [
              "Index(['Measurement date', 'Station code', 'Address', 'Latitude', 'Longitude',\n",
              "       'SO2', 'NO2', 'O3', 'CO', 'PM10', 'PM2.5'],\n",
              "      dtype='object')"
            ]
          },
          "metadata": {},
          "execution_count": 9
        }
      ]
    },
    {
      "cell_type": "code",
      "metadata": {
        "id": "iDg7k-UhM8Pz",
        "colab": {
          "base_uri": "https://localhost:8080/"
        },
        "outputId": "583740da-7cfd-4ffd-a955-d15d9e7b2b81"
      },
      "source": [
        "# Mengecek duplicate data\n",
        "df.duplicated()"
      ],
      "execution_count": null,
      "outputs": [
        {
          "output_type": "execute_result",
          "data": {
            "text/plain": [
              "0         False\n",
              "1         False\n",
              "2         False\n",
              "3         False\n",
              "4         False\n",
              "          ...  \n",
              "647506    False\n",
              "647507    False\n",
              "647508    False\n",
              "647509    False\n",
              "647510    False\n",
              "Length: 647511, dtype: bool"
            ]
          },
          "metadata": {},
          "execution_count": 10
        }
      ]
    },
    {
      "cell_type": "code",
      "metadata": {
        "id": "mcQN0_I-NLza",
        "colab": {
          "base_uri": "https://localhost:8080/"
        },
        "outputId": "697ff0ae-2a34-43d5-947a-e126dfc5b96a"
      },
      "source": [
        "# Mengecek jumlah duplicate data\n",
        "sum(df.duplicated())"
      ],
      "execution_count": null,
      "outputs": [
        {
          "output_type": "execute_result",
          "data": {
            "text/plain": [
              "0"
            ]
          },
          "metadata": {},
          "execution_count": 11
        }
      ]
    },
    {
      "cell_type": "code",
      "metadata": {
        "id": "DPqpnRYtlvy8",
        "colab": {
          "base_uri": "https://localhost:8080/"
        },
        "outputId": "11e4bf20-1452-4c9e-bfe6-04a7a6a6d961"
      },
      "source": [
        "# Mengecek jumlah missing value pada setiap kolom\n",
        "df.isnull().sum()"
      ],
      "execution_count": null,
      "outputs": [
        {
          "output_type": "execute_result",
          "data": {
            "text/plain": [
              "Measurement date    0\n",
              "Station code        0\n",
              "Address             0\n",
              "Latitude            0\n",
              "Longitude           0\n",
              "SO2                 0\n",
              "NO2                 0\n",
              "O3                  0\n",
              "CO                  0\n",
              "PM10                0\n",
              "PM2.5               0\n",
              "dtype: int64"
            ]
          },
          "metadata": {},
          "execution_count": 12
        }
      ]
    },
    {
      "cell_type": "code",
      "metadata": {
        "id": "gltONzrw3UCJ",
        "colab": {
          "base_uri": "https://localhost:8080/"
        },
        "outputId": "a77ce4c8-3dc3-46cb-e5b3-4e09eeffb456"
      },
      "source": [
        "# Mengecek jumlah unique value dari setiap kolom\n",
        "df.nunique()"
      ],
      "execution_count": null,
      "outputs": [
        {
          "output_type": "execute_result",
          "data": {
            "text/plain": [
              "Measurement date    25906\n",
              "Station code           25\n",
              "Address                25\n",
              "Latitude               25\n",
              "Longitude              25\n",
              "SO2                   186\n",
              "NO2                   132\n",
              "O3                    253\n",
              "CO                    172\n",
              "PM10                  551\n",
              "PM2.5                 333\n",
              "dtype: int64"
            ]
          },
          "metadata": {},
          "execution_count": 13
        }
      ]
    },
    {
      "cell_type": "code",
      "metadata": {
        "id": "fSY98DALmqNY",
        "colab": {
          "base_uri": "https://localhost:8080/",
          "height": 319
        },
        "outputId": "22e19b42-78c1-4ab2-932a-92813d1b22a3"
      },
      "source": [
        "# menampilkan statistik dasar setiap kolom\n",
        "df.describe()"
      ],
      "execution_count": null,
      "outputs": [
        {
          "output_type": "execute_result",
          "data": {
            "text/html": [
              "<div>\n",
              "<style scoped>\n",
              "    .dataframe tbody tr th:only-of-type {\n",
              "        vertical-align: middle;\n",
              "    }\n",
              "\n",
              "    .dataframe tbody tr th {\n",
              "        vertical-align: top;\n",
              "    }\n",
              "\n",
              "    .dataframe thead th {\n",
              "        text-align: right;\n",
              "    }\n",
              "</style>\n",
              "<table border=\"1\" class=\"dataframe\">\n",
              "  <thead>\n",
              "    <tr style=\"text-align: right;\">\n",
              "      <th></th>\n",
              "      <th>Station code</th>\n",
              "      <th>Latitude</th>\n",
              "      <th>Longitude</th>\n",
              "      <th>SO2</th>\n",
              "      <th>NO2</th>\n",
              "      <th>O3</th>\n",
              "      <th>CO</th>\n",
              "      <th>PM10</th>\n",
              "      <th>PM2.5</th>\n",
              "    </tr>\n",
              "  </thead>\n",
              "  <tbody>\n",
              "    <tr>\n",
              "      <th>count</th>\n",
              "      <td>647511.000000</td>\n",
              "      <td>647511.000000</td>\n",
              "      <td>647511.000000</td>\n",
              "      <td>647511.000000</td>\n",
              "      <td>647511.000000</td>\n",
              "      <td>647511.000000</td>\n",
              "      <td>647511.000000</td>\n",
              "      <td>647511.000000</td>\n",
              "      <td>647511.000000</td>\n",
              "    </tr>\n",
              "    <tr>\n",
              "      <th>mean</th>\n",
              "      <td>113.000221</td>\n",
              "      <td>37.553484</td>\n",
              "      <td>126.989340</td>\n",
              "      <td>-0.001795</td>\n",
              "      <td>0.022519</td>\n",
              "      <td>0.017979</td>\n",
              "      <td>0.509197</td>\n",
              "      <td>43.708051</td>\n",
              "      <td>25.411995</td>\n",
              "    </tr>\n",
              "    <tr>\n",
              "      <th>std</th>\n",
              "      <td>7.211315</td>\n",
              "      <td>0.053273</td>\n",
              "      <td>0.078790</td>\n",
              "      <td>0.078832</td>\n",
              "      <td>0.115153</td>\n",
              "      <td>0.099308</td>\n",
              "      <td>0.405319</td>\n",
              "      <td>71.137342</td>\n",
              "      <td>43.924595</td>\n",
              "    </tr>\n",
              "    <tr>\n",
              "      <th>min</th>\n",
              "      <td>101.000000</td>\n",
              "      <td>37.452357</td>\n",
              "      <td>126.835151</td>\n",
              "      <td>-1.000000</td>\n",
              "      <td>-1.000000</td>\n",
              "      <td>-1.000000</td>\n",
              "      <td>-1.000000</td>\n",
              "      <td>-1.000000</td>\n",
              "      <td>-1.000000</td>\n",
              "    </tr>\n",
              "    <tr>\n",
              "      <th>25%</th>\n",
              "      <td>107.000000</td>\n",
              "      <td>37.517528</td>\n",
              "      <td>126.927102</td>\n",
              "      <td>0.003000</td>\n",
              "      <td>0.016000</td>\n",
              "      <td>0.008000</td>\n",
              "      <td>0.300000</td>\n",
              "      <td>22.000000</td>\n",
              "      <td>11.000000</td>\n",
              "    </tr>\n",
              "    <tr>\n",
              "      <th>50%</th>\n",
              "      <td>113.000000</td>\n",
              "      <td>37.544962</td>\n",
              "      <td>127.004850</td>\n",
              "      <td>0.004000</td>\n",
              "      <td>0.025000</td>\n",
              "      <td>0.021000</td>\n",
              "      <td>0.500000</td>\n",
              "      <td>35.000000</td>\n",
              "      <td>19.000000</td>\n",
              "    </tr>\n",
              "    <tr>\n",
              "      <th>75%</th>\n",
              "      <td>119.000000</td>\n",
              "      <td>37.584848</td>\n",
              "      <td>127.047470</td>\n",
              "      <td>0.005000</td>\n",
              "      <td>0.038000</td>\n",
              "      <td>0.034000</td>\n",
              "      <td>0.600000</td>\n",
              "      <td>53.000000</td>\n",
              "      <td>31.000000</td>\n",
              "    </tr>\n",
              "    <tr>\n",
              "      <th>max</th>\n",
              "      <td>125.000000</td>\n",
              "      <td>37.658774</td>\n",
              "      <td>127.136792</td>\n",
              "      <td>3.736000</td>\n",
              "      <td>38.445000</td>\n",
              "      <td>33.600000</td>\n",
              "      <td>71.700000</td>\n",
              "      <td>3586.000000</td>\n",
              "      <td>6256.000000</td>\n",
              "    </tr>\n",
              "  </tbody>\n",
              "</table>\n",
              "</div>"
            ],
            "text/plain": [
              "        Station code       Latitude  ...           PM10          PM2.5\n",
              "count  647511.000000  647511.000000  ...  647511.000000  647511.000000\n",
              "mean      113.000221      37.553484  ...      43.708051      25.411995\n",
              "std         7.211315       0.053273  ...      71.137342      43.924595\n",
              "min       101.000000      37.452357  ...      -1.000000      -1.000000\n",
              "25%       107.000000      37.517528  ...      22.000000      11.000000\n",
              "50%       113.000000      37.544962  ...      35.000000      19.000000\n",
              "75%       119.000000      37.584848  ...      53.000000      31.000000\n",
              "max       125.000000      37.658774  ...    3586.000000    6256.000000\n",
              "\n",
              "[8 rows x 9 columns]"
            ]
          },
          "metadata": {},
          "execution_count": 14
        }
      ]
    },
    {
      "cell_type": "markdown",
      "metadata": {
        "id": "HvE05Dyym_Bo"
      },
      "source": [
        "3.3 Memvisualisasikan Data"
      ]
    },
    {
      "cell_type": "code",
      "metadata": {
        "id": "RrYDcPkTiCdS",
        "colab": {
          "base_uri": "https://localhost:8080/",
          "height": 378
        },
        "outputId": "bed94557-0b44-4aea-f2d2-a6404600df4d"
      },
      "source": [
        "# Membuat dan menampilkan plot untuk menampilkan nilai dari PM2.5\n",
        "dates = df['Measurement date'].values[:30]\n",
        "pollutan = df['PM2.5'].values[:30]\n",
        " \n",
        " \n",
        "plt.figure(figsize=(15,5))\n",
        "plt.plot(dates, pollutan)\n",
        "plt.xticks(rotation=45)\n",
        "plt.title('PM2.5 Plot',fontsize=20);"
      ],
      "execution_count": null,
      "outputs": [
        {
          "output_type": "display_data",
          "data": {
            "image/png": "[encoded data removed]",
            "text/plain": [
              "<Figure size 1080x360 with 1 Axes>"
            ]
          },
          "metadata": {
            "needs_background": "light"
          }
        }
      ]
    },
    {
      "cell_type": "markdown",
      "metadata": {
        "id": "RMgBxmkKAwNn"
      },
      "source": [
        "# 4. Data Preparation"
      ]
    },
    {
      "cell_type": "markdown",
      "metadata": {
        "id": "nqXs8ZyuJW9J"
      },
      "source": [
        "4.1 Teknik Feature selection: Menghapus unnecessary column"
      ]
    },
    {
      "cell_type": "code",
      "metadata": {
        "id": "FPllQmsYcM2w"
      },
      "source": [
        "# Menghapus kolom Station code, Address, Latitude, Longitude, SO2, NO2, O3, CO, PM10, Measurement date\n",
        "df = df.drop(['Station code', 'Address', 'Latitude', 'Longitude','SO2', 'NO2', 'O3', 'CO', 'PM10','Measurement date'], axis=1)"
      ],
      "execution_count": null,
      "outputs": []
    },
    {
      "cell_type": "markdown",
      "metadata": {
        "id": "muq2Bh67Jccn"
      },
      "source": [
        "4.2 Teknik data Cleaning: Menghapus Outliers pada kolom PM2.5"
      ]
    },
    {
      "cell_type": "code",
      "metadata": {
        "id": "o670mxQYBkdm",
        "colab": {
          "base_uri": "https://localhost:8080/",
          "height": 297
        },
        "outputId": "245e5a1d-97f4-4446-c7b3-3ef03c55ada5"
      },
      "source": [
        "# Mencari outliers\n",
        "sns.boxplot(x=df['PM2.5'])"
      ],
      "execution_count": null,
      "outputs": [
        {
          "output_type": "execute_result",
          "data": {
            "text/plain": [
              "<matplotlib.axes._subplots.AxesSubplot at 0x7f7b31aa69d0>"
            ]
          },
          "metadata": {},
          "execution_count": 17
        },
        {
          "output_type": "display_data",
          "data": {
            "image/png": "[encoded data removed]",
            "text/plain": [
              "<Figure size 432x288 with 1 Axes>"
            ]
          },
          "metadata": {
            "needs_background": "light"
          }
        }
      ]
    },
    {
      "cell_type": "code",
      "metadata": {
        "id": "3H9DPE3tEqbR"
      },
      "source": [
        "# Menghapus outliers\n",
        "Q1 = df.quantile(0.25)\n",
        "Q3 = df.quantile(0.75)\n",
        "IQR=Q3-Q1\n",
        "df=df[~((df<(Q1-1.5*IQR))|(df>(Q3+1.5*IQR))).any(axis=1)]"
      ],
      "execution_count": null,
      "outputs": []
    },
    {
      "cell_type": "code",
      "metadata": {
        "id": "_jJhf8kDJkf-",
        "colab": {
          "base_uri": "https://localhost:8080/"
        },
        "outputId": "42647925-f318-45e9-eef5-e7b94ee91a88"
      },
      "source": [
        "# Cek shape dataset setelah menghapus outliers\n",
        "df.shape"
      ],
      "execution_count": null,
      "outputs": [
        {
          "output_type": "execute_result",
          "data": {
            "text/plain": [
              "(616047, 1)"
            ]
          },
          "metadata": {},
          "execution_count": 19
        }
      ]
    },
    {
      "cell_type": "markdown",
      "metadata": {
        "id": "w4cR91Ue_zey"
      },
      "source": [
        "4.3 Teknik Train Test Split untuk membagi data"
      ]
    },
    {
      "cell_type": "code",
      "metadata": {
        "id": "8aApvyGxDIqm"
      },
      "source": [
        "# Membagi data menjadi 90% data trening dan 10% data testing\n",
        "values = df.values\n",
        "train, test = train_test_split(values, test_size = 0.1, random_state = 123, shuffle = False)"
      ],
      "execution_count": null,
      "outputs": []
    },
    {
      "cell_type": "code",
      "metadata": {
        "id": "N_gH2skvj9dP",
        "colab": {
          "base_uri": "https://localhost:8080/"
        },
        "outputId": "3a5a2a14-e2b5-4cf1-e48e-b69f5ab5848f"
      },
      "source": [
        "# Menampilkan jumlah data train\n",
        "train.shape"
      ],
      "execution_count": null,
      "outputs": [
        {
          "output_type": "execute_result",
          "data": {
            "text/plain": [
              "(554442, 1)"
            ]
          },
          "metadata": {},
          "execution_count": 21
        }
      ]
    },
    {
      "cell_type": "code",
      "metadata": {
        "id": "tKj6DJb9j_vs",
        "colab": {
          "base_uri": "https://localhost:8080/"
        },
        "outputId": "9a29f426-62c9-45a0-909f-bfa4bc61e8d7"
      },
      "source": [
        "# Menampilkan jumlah data test\n",
        "test.shape"
      ],
      "execution_count": null,
      "outputs": [
        {
          "output_type": "execute_result",
          "data": {
            "text/plain": [
              "(61605, 1)"
            ]
          },
          "metadata": {},
          "execution_count": 22
        }
      ]
    },
    {
      "cell_type": "markdown",
      "metadata": {
        "id": "tgmEnNoTK1UG"
      },
      "source": [
        "4.4 Teknik data transforms: Scaling Nilai PM2.5 Menggunakan MinMaxScaler"
      ]
    },
    {
      "cell_type": "code",
      "metadata": {
        "id": "hKbkc3uMII8T"
      },
      "source": [
        "# Scaling data\n",
        "min_max_scaler = MinMaxScaler()\n",
        "scaled_train = min_max_scaler.fit_transform(train)\n",
        "scaled_test = min_max_scaler.fit_transform(test)"
      ],
      "execution_count": null,
      "outputs": []
    },
    {
      "cell_type": "code",
      "metadata": {
        "id": "PE8Wroy9IS2v",
        "colab": {
          "base_uri": "https://localhost:8080/"
        },
        "outputId": "7a62930e-09dd-4e61-9a3a-276815650e35"
      },
      "source": [
        "# Menampilkan data yang sudah di scaling\n",
        "scaled_train"
      ],
      "execution_count": null,
      "outputs": [
        {
          "output_type": "execute_result",
          "data": {
            "text/plain": [
              "array([[0.93548387],\n",
              "       [0.96774194],\n",
              "       [0.96774194],\n",
              "       ...,\n",
              "       [0.74193548],\n",
              "       [0.64516129],\n",
              "       [0.62903226]])"
            ]
          },
          "metadata": {},
          "execution_count": 24
        }
      ]
    },
    {
      "cell_type": "code",
      "metadata": {
        "id": "V1TdvPKZJ8lo"
      },
      "source": [
        "# Membuat generator menggunakan TimeseriesGenerator\n",
        "# Menentukan berapa jam yang ingin diprediksi di masa depan\n",
        "# Proyek ini akan memprediksi PM2.5 pada 30 jam ke depan\n",
        "n_input = 30\n",
        "n_feature = 1\n",
        "generator = TimeseriesGenerator(scaled_train, scaled_train, length = n_input, batch_size=128)"
      ],
      "execution_count": null,
      "outputs": []
    },
    {
      "cell_type": "code",
      "metadata": {
        "id": "EJtn7mpp4Hcb"
      },
      "source": [
        "# Membuat test_generator untuk digunakan pada saat prediksi menggunakan model terbaik\n",
        "test_generator = TimeseriesGenerator(scaled_test, scaled_test, length = n_input, batch_size=128)"
      ],
      "execution_count": null,
      "outputs": []
    },
    {
      "cell_type": "markdown",
      "metadata": {
        "id": "0P1SX5x3LXyx"
      },
      "source": [
        "#5. Membuat Model"
      ]
    },
    {
      "cell_type": "markdown",
      "metadata": {
        "id": "Ac_wunD5IRhY"
      },
      "source": [
        "5.1 Model LSTM"
      ]
    },
    {
      "cell_type": "code",
      "metadata": {
        "id": "vscN8NGILawg"
      },
      "source": [
        "# Membuat model LSTM\n",
        "model = tf.keras.models.Sequential([\n",
        "  tf.keras.layers.LSTM(50, activation=\"relu\", return_sequences=True, input_shape=(n_input, n_feature)),\n",
        "  tf.keras.layers.LSTM(60, activation=\"relu\", return_sequences=True),\n",
        "  tf.keras.layers.Dense(30, activation=\"relu\"),\n",
        "  tf.keras.layers.Dense(10, activation=\"relu\"),\n",
        "  tf.keras.layers.Dense(1),\n",
        "])"
      ],
      "execution_count": null,
      "outputs": []
    },
    {
      "cell_type": "code",
      "metadata": {
        "id": "i_OI_5pJLg5z",
        "colab": {
          "base_uri": "https://localhost:8080/"
        },
        "outputId": "1c5df4e5-7b74-49cb-d0fb-2c03ffc1efbd"
      },
      "source": [
        "# Menampilkan summary dari model yang dibuat\n",
        "model.summary()"
      ],
      "execution_count": null,
      "outputs": [
        {
          "output_type": "stream",
          "name": "stdout",
          "text": [
            "Model: \"sequential\"\n",
            "_________________________________________________________________\n",
            " Layer (type)                Output Shape              Param #   \n",
            "=================================================================\n",
            " lstm (LSTM)                 (None, 30, 50)            10400     \n",
            "                                                                 \n",
            " lstm_1 (LSTM)               (None, 30, 60)            26640     \n",
            "                                                                 \n",
            " dense (Dense)               (None, 30, 30)            1830      \n",
            "                                                                 \n",
            " dense_1 (Dense)             (None, 30, 10)            310       \n",
            "                                                                 \n",
            " dense_2 (Dense)             (None, 30, 1)             11        \n",
            "                                                                 \n",
            "=================================================================\n",
            "Total params: 39,191\n",
            "Trainable params: 39,191\n",
            "Non-trainable params: 0\n",
            "_________________________________________________________________\n"
          ]
        }
      ]
    },
    {
      "cell_type": "code",
      "metadata": {
        "id": "B36T5FwZLjfw"
      },
      "source": [
        "# Compiling model \n",
        "optimizer = tf.keras.optimizers.SGD(learning_rate=1e-3, momentum=0.9)\n",
        "model.compile(loss=tf.keras.losses.Huber(),\n",
        "              optimizer=optimizer,\n",
        "              metrics=[\"mae\"])"
      ],
      "execution_count": null,
      "outputs": []
    },
    {
      "cell_type": "code",
      "metadata": {
        "id": "KgpTT4eQLnlp",
        "colab": {
          "base_uri": "https://localhost:8080/"
        },
        "outputId": "8f12d667-2b2a-4f5f-d8ae-66545ad9d5d0"
      },
      "source": [
        "# Training model dengan 10 epochs\n",
        "history = model.fit(generator, \n",
        "                    epochs=10)"
      ],
      "execution_count": null,
      "outputs": [
        {
          "output_type": "stream",
          "name": "stdout",
          "text": [
            "Epoch 1/10\n",
            "4332/4332 [==============================] - 285s 65ms/step - loss: 0.0199 - mae: 0.1576\n",
            "Epoch 2/10\n",
            "4332/4332 [==============================] - 284s 65ms/step - loss: 0.0167 - mae: 0.1407\n",
            "Epoch 3/10\n",
            "4332/4332 [==============================] - 284s 65ms/step - loss: 0.0164 - mae: 0.1387\n",
            "Epoch 4/10\n",
            "4332/4332 [==============================] - 283s 65ms/step - loss: 0.0163 - mae: 0.1379\n",
            "Epoch 5/10\n",
            "4332/4332 [==============================] - 283s 65ms/step - loss: 0.0162 - mae: 0.1374\n",
            "Epoch 6/10\n",
            "4332/4332 [==============================] - 288s 67ms/step - loss: 0.0161 - mae: 0.1369\n",
            "Epoch 7/10\n",
            "4332/4332 [==============================] - 287s 66ms/step - loss: 0.0161 - mae: 0.1366\n",
            "Epoch 8/10\n",
            "4332/4332 [==============================] - 290s 67ms/step - loss: 0.0160 - mae: 0.1363\n",
            "Epoch 9/10\n",
            "4332/4332 [==============================] - 284s 66ms/step - loss: 0.0160 - mae: 0.1361\n",
            "Epoch 10/10\n",
            "4332/4332 [==============================] - 286s 66ms/step - loss: 0.0160 - mae: 0.1358\n"
          ]
        }
      ]
    },
    {
      "cell_type": "markdown",
      "metadata": {
        "id": "pQaPUT9TIXSz"
      },
      "source": [
        "5.2 Model CNN"
      ]
    },
    {
      "cell_type": "code",
      "metadata": {
        "id": "88pNt-rMIo3_"
      },
      "source": [
        "# Membuat model CNN\n",
        "model_CNN = tf.keras.models.Sequential([\n",
        "  tf.keras.layers.Conv1D(filters=32, kernel_size=5, strides=1, padding=\"causal\", activation=\"relu\",\n",
        "                               input_shape=(n_input, n_feature)),\n",
        "        tf.keras.layers.MaxPooling1D(pool_size=2),\n",
        "        tf.keras.layers.Flatten(),\n",
        "        tf.keras.layers.Dense(64, activation=\"relu\"),\n",
        "        tf.keras.layers.Dense(10, activation=\"relu\"),\n",
        "        tf.keras.layers.Dense(1)\n",
        "])"
      ],
      "execution_count": null,
      "outputs": []
    },
    {
      "cell_type": "code",
      "metadata": {
        "id": "q9jEFHzAKB9h",
        "colab": {
          "base_uri": "https://localhost:8080/"
        },
        "outputId": "7a611ce2-dcad-4a78-f82a-0b0404198df7"
      },
      "source": [
        "# Menampilkan summary dari model yang dibuat\n",
        "model_CNN.summary()"
      ],
      "execution_count": null,
      "outputs": [
        {
          "output_type": "stream",
          "name": "stdout",
          "text": [
            "Model: \"sequential_1\"\n",
            "_________________________________________________________________\n",
            " Layer (type)                Output Shape              Param #   \n",
            "=================================================================\n",
            " conv1d (Conv1D)             (None, 30, 32)            192       \n",
            "                                                                 \n",
            " max_pooling1d (MaxPooling1D  (None, 15, 32)           0         \n",
            " )                                                               \n",
            "                                                                 \n",
            " flatten (Flatten)           (None, 480)               0         \n",
            "                                                                 \n",
            " dense_3 (Dense)             (None, 64)                30784     \n",
            "                                                                 \n",
            " dense_4 (Dense)             (None, 10)                650       \n",
            "                                                                 \n",
            " dense_5 (Dense)             (None, 1)                 11        \n",
            "                                                                 \n",
            "=================================================================\n",
            "Total params: 31,637\n",
            "Trainable params: 31,637\n",
            "Non-trainable params: 0\n",
            "_________________________________________________________________\n"
          ]
        }
      ]
    },
    {
      "cell_type": "code",
      "metadata": {
        "id": "N6adjIxYIxCd"
      },
      "source": [
        "# Compiling model \n",
        "optimizer = tf.keras.optimizers.SGD(learning_rate=1e-4, momentum=0.9)\n",
        "model_CNN.compile(loss=tf.keras.losses.Huber(),\n",
        "              optimizer=optimizer,\n",
        "              metrics=[\"mae\"])"
      ],
      "execution_count": null,
      "outputs": []
    },
    {
      "cell_type": "code",
      "metadata": {
        "id": "ljRozI6RKpYh",
        "colab": {
          "base_uri": "https://localhost:8080/"
        },
        "outputId": "892b3a6c-0acd-4859-d59c-46bb76c9a264"
      },
      "source": [
        "# Training model dengan 10 epochs\n",
        "history_CNN = model_CNN.fit(generator, \n",
        "                            epochs=10)"
      ],
      "execution_count": null,
      "outputs": [
        {
          "output_type": "stream",
          "name": "stdout",
          "text": [
            "Epoch 1/10\n",
            "4332/4332 [==============================] - 29s 7ms/step - loss: 0.0134 - mae: 0.1222\n",
            "Epoch 2/10\n",
            "4332/4332 [==============================] - 29s 7ms/step - loss: 0.0094 - mae: 0.1021\n",
            "Epoch 3/10\n",
            "4332/4332 [==============================] - 29s 7ms/step - loss: 0.0084 - mae: 0.0951\n",
            "Epoch 4/10\n",
            "4332/4332 [==============================] - 29s 7ms/step - loss: 0.0078 - mae: 0.0907\n",
            "Epoch 5/10\n",
            "4332/4332 [==============================] - 29s 7ms/step - loss: 0.0074 - mae: 0.0875\n",
            "Epoch 6/10\n",
            "4332/4332 [==============================] - 30s 7ms/step - loss: 0.0071 - mae: 0.0851\n",
            "Epoch 7/10\n",
            "4332/4332 [==============================] - 30s 7ms/step - loss: 0.0068 - mae: 0.0831\n",
            "Epoch 8/10\n",
            "4332/4332 [==============================] - 29s 7ms/step - loss: 0.0066 - mae: 0.0815\n",
            "Epoch 9/10\n",
            "4332/4332 [==============================] - 29s 7ms/step - loss: 0.0064 - mae: 0.0800\n",
            "Epoch 10/10\n",
            "4332/4332 [==============================] - 29s 7ms/step - loss: 0.0062 - mae: 0.0787\n"
          ]
        }
      ]
    },
    {
      "cell_type": "markdown",
      "metadata": {
        "id": "Sb5Hqga5JZ8G"
      },
      "source": [
        "5.3 Mencoba Membuat Prediksi Menggunakan Model CNN\n",
        "- Model CNN dipilih karena menghasilkan nilai loss dan nilai MAE yang lebih kecil dibandingkan dengan model LSTM"
      ]
    },
    {
      "cell_type": "code",
      "metadata": {
        "colab": {
          "base_uri": "https://localhost:8080/"
        },
        "id": "XbJtBGYv4hsB",
        "outputId": "44fd3fc4-df22-4df7-a86c-35521a2a9163"
      },
      "source": [
        "model_CNN.evaluate(test_generator, verbose=0)"
      ],
      "execution_count": null,
      "outputs": [
        {
          "output_type": "execute_result",
          "data": {
            "text/plain": [
              "[0.005914489738643169, 0.07666974514722824]"
            ]
          },
          "metadata": {},
          "execution_count": 79
        }
      ]
    },
    {
      "cell_type": "code",
      "metadata": {
        "colab": {
          "base_uri": "https://localhost:8080/"
        },
        "id": "SSRaBw4R7TX1",
        "outputId": "7435ae6c-1ad2-461f-da11-eef269ae8cb7"
      },
      "source": [
        "predictions = model_CNN.predict_generator(test_generator)"
      ],
      "execution_count": null,
      "outputs": [
        {
          "output_type": "stream",
          "name": "stderr",
          "text": [
            "/usr/local/lib/python3.7/dist-packages/ipykernel_launcher.py:1: UserWarning: `Model.predict_generator` is deprecated and will be removed in a future version. Please use `Model.predict`, which supports generators.\n",
            "  \"\"\"Entry point for launching an IPython kernel.\n"
          ]
        }
      ]
    },
    {
      "cell_type": "code",
      "metadata": {
        "colab": {
          "base_uri": "https://localhost:8080/"
        },
        "id": "IHQ-jYyt7fyH",
        "outputId": "ec2a7712-e53a-4ef3-edd8-ffa6d3045c0b"
      },
      "source": [
        "predictions.shape[0]"
      ],
      "execution_count": null,
      "outputs": [
        {
          "output_type": "execute_result",
          "data": {
            "text/plain": [
              "61575"
            ]
          },
          "metadata": {},
          "execution_count": 85
        }
      ]
    },
    {
      "cell_type": "code",
      "metadata": {
        "colab": {
          "base_uri": "https://localhost:8080/"
        },
        "id": "qNUreXZF7mIw",
        "outputId": "08bb4ccf-e767-4e79-ee1f-cbdeee14d54d"
      },
      "source": [
        "predictions"
      ],
      "execution_count": null,
      "outputs": [
        {
          "output_type": "execute_result",
          "data": {
            "text/plain": [
              "array([[0.1615516 ],\n",
              "       [0.16204171],\n",
              "       [0.18993193],\n",
              "       ...,\n",
              "       [0.3045644 ],\n",
              "       [0.30073372],\n",
              "       [0.29798907]], dtype=float32)"
            ]
          },
          "metadata": {},
          "execution_count": 86
        }
      ]
    },
    {
      "cell_type": "markdown",
      "metadata": {
        "id": "jmF917Q6DwRB"
      },
      "source": [
        "#6. Evaluasi Model"
      ]
    },
    {
      "cell_type": "markdown",
      "metadata": {
        "id": "32XL1rKZD-AX"
      },
      "source": [
        "6.1 Membuat Plot Loss dan MAE Selama Proses Training untuk Model LSTM"
      ]
    },
    {
      "cell_type": "code",
      "metadata": {
        "colab": {
          "base_uri": "https://localhost:8080/",
          "height": 422
        },
        "id": "nstLG40_I12a",
        "outputId": "985a45ec-0110-435e-bda7-60030d1e14ba"
      },
      "source": [
        "# Menampilkan plot loss pada proses training\n",
        "plt.figure(figsize=(10, 6))\n",
        "plt.plot(history.history['loss'], label='Train Loss')\n",
        "plt.title('Loss graph of LSTM model')\n",
        "plt.xlabel('Epochs')\n",
        "plt.ylabel('Loss')\n",
        "plt.legend()"
      ],
      "execution_count": null,
      "outputs": [
        {
          "output_type": "execute_result",
          "data": {
            "text/plain": [
              "<matplotlib.legend.Legend at 0x7f7b1f7ed950>"
            ]
          },
          "metadata": {},
          "execution_count": 94
        },
        {
          "output_type": "display_data",
          "data": {
            "image/png": "[encoded data removed]",
            "text/plain": [
              "<Figure size 720x432 with 1 Axes>"
            ]
          },
          "metadata": {
            "needs_background": "light"
          }
        }
      ]
    },
    {
      "cell_type": "code",
      "metadata": {
        "colab": {
          "base_uri": "https://localhost:8080/",
          "height": 422
        },
        "id": "FJWygLfsI5B1",
        "outputId": "b9a81eff-d36c-42c1-ebee-2a09f9416501"
      },
      "source": [
        "# Menampilkan plot MAE pada proses training\n",
        "plt.figure(figsize=(10, 6))\n",
        "plt.plot(history.history['mae'], label='Train MAE')\n",
        "plt.title('MAE graph of LSTM model')\n",
        "plt.xlabel('Epochs')\n",
        "plt.ylabel('MAE')\n",
        "plt.legend()"
      ],
      "execution_count": null,
      "outputs": [
        {
          "output_type": "execute_result",
          "data": {
            "text/plain": [
              "<matplotlib.legend.Legend at 0x7f7b1f808f10>"
            ]
          },
          "metadata": {},
          "execution_count": 95
        },
        {
          "output_type": "display_data",
          "data": {
            "image/png": "[encoded data removed]",
            "text/plain": [
              "<Figure size 720x432 with 1 Axes>"
            ]
          },
          "metadata": {
            "needs_background": "light"
          }
        }
      ]
    },
    {
      "cell_type": "markdown",
      "metadata": {
        "id": "L2KP-OpcLRtM"
      },
      "source": [
        "6.2 Membuat Plot Loss dan MAE Selama Proses Training untuk Model CNN"
      ]
    },
    {
      "cell_type": "code",
      "metadata": {
        "colab": {
          "base_uri": "https://localhost:8080/",
          "height": 422
        },
        "id": "81bNmabsI8I8",
        "outputId": "6b657e73-7bc1-422f-8519-1263b98e1465"
      },
      "source": [
        "# Menampilkan plot loss pada proses training\n",
        "plt.figure(figsize=(10, 6))\n",
        "plt.plot(history_CNN.history['loss'], label='Train Loss')\n",
        "plt.title('Loss graph of CNN model')\n",
        "plt.xlabel('Epochs')\n",
        "plt.ylabel('Loss')\n",
        "plt.legend()"
      ],
      "execution_count": null,
      "outputs": [
        {
          "output_type": "execute_result",
          "data": {
            "text/plain": [
              "<matplotlib.legend.Legend at 0x7f7b1f7ec310>"
            ]
          },
          "metadata": {},
          "execution_count": 96
        },
        {
          "output_type": "display_data",
          "data": {
            "image/png": "[encoded data removed]",
            "text/plain": [
              "<Figure size 720x432 with 1 Axes>"
            ]
          },
          "metadata": {
            "needs_background": "light"
          }
        }
      ]
    },
    {
      "cell_type": "code",
      "metadata": {
        "id": "Rp73Nc6uLYTm",
        "colab": {
          "base_uri": "https://localhost:8080/",
          "height": 422
        },
        "outputId": "4c8fc615-f26c-405e-c3a9-afa2c88380f1"
      },
      "source": [
        "# Menampilkan plot MAE pada proses training\n",
        "plt.figure(figsize=(10, 6))\n",
        "plt.plot(history_CNN.history['mae'], label='Train MAE')\n",
        "plt.title('MAE graph of CNN model')\n",
        "plt.xlabel('Epochs')\n",
        "plt.ylabel('MAE')\n",
        "plt.legend()"
      ],
      "execution_count": null,
      "outputs": [
        {
          "output_type": "execute_result",
          "data": {
            "text/plain": [
              "<matplotlib.legend.Legend at 0x7f7b1f6fc810>"
            ]
          },
          "metadata": {},
          "execution_count": 97
        },
        {
          "output_type": "display_data",
          "data": {
            "image/png": "[encoded data removed]",
            "text/plain": [
              "<Figure size 720x432 with 1 Axes>"
            ]
          },
          "metadata": {
            "needs_background": "light"
          }
        }
      ]
    },
    {
      "cell_type": "markdown",
      "metadata": {
        "id": "pEtsnPexN-a-"
      },
      "source": [
        "6.3 Membuat Plot untuk Hasil Prediksi Menggunakan Model CNN "
      ]
    },
    {
      "cell_type": "code",
      "metadata": {
        "colab": {
          "base_uri": "https://localhost:8080/"
        },
        "id": "sDuky98R8lQu",
        "outputId": "0c8ba537-bef9-4227-c47a-19be9b11c024"
      },
      "source": [
        "test[:,1:][n_input:]"
      ],
      "execution_count": null,
      "outputs": [
        {
          "output_type": "execute_result",
          "data": {
            "text/plain": [
              "array([], shape=(61575, 0), dtype=float64)"
            ]
          },
          "metadata": {},
          "execution_count": 87
        }
      ]
    },
    {
      "cell_type": "code",
      "metadata": {
        "id": "Uhxz94vm8wQQ"
      },
      "source": [
        "df_predict = pd.concat([pd.DataFrame(predictions), pd.DataFrame(test[:,1:][n_input:])], axis=1)"
      ],
      "execution_count": null,
      "outputs": []
    },
    {
      "cell_type": "code",
      "metadata": {
        "id": "XR6RLMvd9Lsg"
      },
      "source": [
        "rev_transform=min_max_scaler.inverse_transform(df_predict)"
      ],
      "execution_count": null,
      "outputs": []
    },
    {
      "cell_type": "code",
      "metadata": {
        "colab": {
          "base_uri": "https://localhost:8080/"
        },
        "id": "4SO9vlam9cee",
        "outputId": "7b3f2b8e-24a1-419d-ffff-64fbfdfc7577"
      },
      "source": [
        "rev_transform"
      ],
      "execution_count": null,
      "outputs": [
        {
          "output_type": "execute_result",
          "data": {
            "text/plain": [
              "array([[ 9.016199],\n",
              "       [ 9.046586],\n",
              "       [10.77578 ],\n",
              "       ...,\n",
              "       [17.882992],\n",
              "       [17.645489],\n",
              "       [17.47532 ]], dtype=float32)"
            ]
          },
          "metadata": {},
          "execution_count": 90
        }
      ]
    },
    {
      "cell_type": "code",
      "metadata": {
        "colab": {
          "base_uri": "https://localhost:8080/"
        },
        "id": "QEogg1c99mHl",
        "outputId": "c2f46af3-b192-4196-84c0-2f881f8be8eb"
      },
      "source": [
        "df_final = df[predictions.shape[0]*-1:]\n",
        "df_final.count()"
      ],
      "execution_count": null,
      "outputs": [
        {
          "output_type": "execute_result",
          "data": {
            "text/plain": [
              "PM2.5    61575\n",
              "dtype: int64"
            ]
          },
          "metadata": {},
          "execution_count": 91
        }
      ]
    },
    {
      "cell_type": "code",
      "metadata": {
        "colab": {
          "base_uri": "https://localhost:8080/",
          "height": 551
        },
        "id": "xOtaum7Z-EuT",
        "outputId": "6b92d1ef-9eb4-4974-adc0-d951d0d3760d"
      },
      "source": [
        "df_final['PM2.5_predict'] = rev_transform[:,0]\n",
        "df_final"
      ],
      "execution_count": null,
      "outputs": [
        {
          "output_type": "stream",
          "name": "stderr",
          "text": [
            "/usr/local/lib/python3.7/dist-packages/ipykernel_launcher.py:1: SettingWithCopyWarning: \n",
            "A value is trying to be set on a copy of a slice from a DataFrame.\n",
            "Try using .loc[row_indexer,col_indexer] = value instead\n",
            "\n",
            "See the caveats in the documentation: https://pandas.pydata.org/pandas-docs/stable/user_guide/indexing.html#returning-a-view-versus-a-copy\n",
            "  \"\"\"Entry point for launching an IPython kernel.\n"
          ]
        },
        {
          "output_type": "execute_result",
          "data": {
            "text/html": [
              "<div>\n",
              "<style scoped>\n",
              "    .dataframe tbody tr th:only-of-type {\n",
              "        vertical-align: middle;\n",
              "    }\n",
              "\n",
              "    .dataframe tbody tr th {\n",
              "        vertical-align: top;\n",
              "    }\n",
              "\n",
              "    .dataframe thead th {\n",
              "        text-align: right;\n",
              "    }\n",
              "</style>\n",
              "<table border=\"1\" class=\"dataframe\">\n",
              "  <thead>\n",
              "    <tr style=\"text-align: right;\">\n",
              "      <th></th>\n",
              "      <th>PM2.5</th>\n",
              "      <th>PM2.5_predict</th>\n",
              "    </tr>\n",
              "  </thead>\n",
              "  <tbody>\n",
              "    <tr>\n",
              "      <th>582855</th>\n",
              "      <td>8.0</td>\n",
              "      <td>9.016199</td>\n",
              "    </tr>\n",
              "    <tr>\n",
              "      <th>582856</th>\n",
              "      <td>13.0</td>\n",
              "      <td>9.046586</td>\n",
              "    </tr>\n",
              "    <tr>\n",
              "      <th>582857</th>\n",
              "      <td>14.0</td>\n",
              "      <td>10.775780</td>\n",
              "    </tr>\n",
              "    <tr>\n",
              "      <th>582858</th>\n",
              "      <td>12.0</td>\n",
              "      <td>10.447958</td>\n",
              "    </tr>\n",
              "    <tr>\n",
              "      <th>582859</th>\n",
              "      <td>9.0</td>\n",
              "      <td>10.626148</td>\n",
              "    </tr>\n",
              "    <tr>\n",
              "      <th>...</th>\n",
              "      <td>...</td>\n",
              "      <td>...</td>\n",
              "    </tr>\n",
              "    <tr>\n",
              "      <th>647506</th>\n",
              "      <td>17.0</td>\n",
              "      <td>17.407013</td>\n",
              "    </tr>\n",
              "    <tr>\n",
              "      <th>647507</th>\n",
              "      <td>19.0</td>\n",
              "      <td>17.314137</td>\n",
              "    </tr>\n",
              "    <tr>\n",
              "      <th>647508</th>\n",
              "      <td>17.0</td>\n",
              "      <td>17.882992</td>\n",
              "    </tr>\n",
              "    <tr>\n",
              "      <th>647509</th>\n",
              "      <td>18.0</td>\n",
              "      <td>17.645489</td>\n",
              "    </tr>\n",
              "    <tr>\n",
              "      <th>647510</th>\n",
              "      <td>18.0</td>\n",
              "      <td>17.475321</td>\n",
              "    </tr>\n",
              "  </tbody>\n",
              "</table>\n",
              "<p>61575 rows × 2 columns</p>\n",
              "</div>"
            ],
            "text/plain": [
              "        PM2.5  PM2.5_predict\n",
              "582855    8.0       9.016199\n",
              "582856   13.0       9.046586\n",
              "582857   14.0      10.775780\n",
              "582858   12.0      10.447958\n",
              "582859    9.0      10.626148\n",
              "...       ...            ...\n",
              "647506   17.0      17.407013\n",
              "647507   19.0      17.314137\n",
              "647508   17.0      17.882992\n",
              "647509   18.0      17.645489\n",
              "647510   18.0      17.475321\n",
              "\n",
              "[61575 rows x 2 columns]"
            ]
          },
          "metadata": {},
          "execution_count": 92
        }
      ]
    },
    {
      "cell_type": "code",
      "metadata": {
        "colab": {
          "base_uri": "https://localhost:8080/",
          "height": 296
        },
        "id": "7_Avq8Ib-VSP",
        "outputId": "669169db-076f-45e0-b78f-06c4286da5cc"
      },
      "source": [
        "df_final[['PM2.5','PM2.5_predict']][:30].plot()"
      ],
      "execution_count": null,
      "outputs": [
        {
          "output_type": "execute_result",
          "data": {
            "text/plain": [
              "<matplotlib.axes._subplots.AxesSubplot at 0x7f7b1f854210>"
            ]
          },
          "metadata": {},
          "execution_count": 93
        },
        {
          "output_type": "display_data",
          "data": {
            "image/png": "[encoded data removed]",
            "text/plain": [
              "<Figure size 432x288 with 1 Axes>"
            ]
          },
          "metadata": {
            "needs_background": "light"
          }
        }
      ]
    },
    {
      "cell_type": "markdown",
      "metadata": {
        "id": "AZgjgeqktdep"
      },
      "source": [
        "# Penutup\n",
        "Pembuatan model untuk memprediksi data PM2.5 telah selesai. Model ini diharapkan dapat membantu memprediksi data PM2.5 pada 30 jam ke depan karena PM2.5 merupakan salah satu polutan berbahaya yang dapat mencemari udara dan mempengaruhi kesehatan manusia. Selain itu, beberapa pengembangan dapat dilakukan untuk membuat model ini menjadi lebih baik. Pengembangan tersebut diantaranya yaitu membuat arsitektur model LSTM dan model CNN yang lebih kompleks dengan menambahkan layer pada model LSTM dan model CNN yang sudah dibuat.  "
      ]
    },
    {
      "cell_type": "markdown",
      "metadata": {
        "id": "pQO476iWDtJ8"
      },
      "source": [
        "# Referensi\n",
        "\n",
        "\n",
        "\n",
        "\n",
        "*   Dokumentasi Matplotlib:https://matplotlib.org\n",
        "*   Dokumentasi Seaborn:https://seaborn.pydata.org\n",
        "*   Dokumentasi Tensorflow:https://www.tensorflow.org\n",
        "*   Dataset:https://www.kaggle.com/bappekim/air-pollution-in-seoul\n",
        "*   Referensi lainnya:\n",
        "*   https://github.com/fahmij8/ML-Exercise/blob/main/MLT-1/MLT_Proyek_Submission_1.ipynb\n",
        "*   https://youtu.be/4FmVIpcwl4k\n",
        "\n",
        "\n",
        "\n",
        "\n",
        "\n",
        "\n"
      ]
    }
  ]
}